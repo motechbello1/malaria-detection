{
 "cells": [
  {
   "cell_type": "markdown",
   "id": "edb2abc2",
   "metadata": {},
   "source": [
    "## DEVELOPMENT OF A MALARIA DETECTION MODEL"
   ]
  },
  {
   "cell_type": "markdown",
   "id": "b96091ac",
   "metadata": {},
   "source": [
    "### BACKGROUND\n",
    "In Nigeria, where malaria remains a significant public health threat, researchers are exploring the potential of \n",
    "machine learning to revolutionize detection and diagnosis. This project aims to develop a machine learning model capable of \n",
    "accurately identifying malaria parasites in blood samples. By leveraging image analysis techniques and robust algorithms, the\n",
    "model seeks to address limitations of traditional microscopic diagnosis, offering faster, more objective, and potentially \n",
    "more accessible solutions for resource-constrained settings. Ultimately, this project strives to contribute to the fight \n",
    "against malaria in Nigeria by empowering healthcare professionals with a powerful diagnostic tool."
   ]
  },
  {
   "cell_type": "markdown",
   "id": "1a262ff4",
   "metadata": {},
   "source": [
    "### AIMS & OBJECTIVES\n",
    "This project aims to develop a machine learning model capable of accurately identifying malaria parasites in blood samples."
   ]
  },
  {
   "cell_type": "markdown",
   "id": "8d472053",
   "metadata": {},
   "source": [
    "### OBJECTIVES\n",
    "* Develop a machine learning model that surpasses traditional microscopy in both accuracy and efficiency\n",
    "* Design a model that can be integrated into cost-effective and portable devices\n",
    "* Build a system that can analyze large datasets to predict malaria outbreaks"
   ]
  },
  {
   "cell_type": "markdown",
   "id": "16b354da",
   "metadata": {},
   "source": [
    "## DATA COLLECTION METHOD\n",
    "The data for this project was collected from kaggle, this website provided us with images of cells that are infected with the \n",
    "malaria parasite and images that are clean. This was a resource utilized in the training of the model.\n",
    "The link to the resource is referred below:-\n",
    "    * https://www.kaggle.com/datasets/iarunava/cell-images-for-detecting-malaria"
   ]
  },
  {
   "cell_type": "markdown",
   "id": "8ec00fcc",
   "metadata": {},
   "source": [
    "## MODEL SELECTION\n",
    "\n",
    "### Why use a CNN for Malaria Detection?\n",
    "* Image Expertise: CNNs excel at analyzing images, naturally extracting features like shapes, textures, and edges crucial for \n",
    "identifying malaria parasites in cells.\n",
    "\n",
    "* Automatic Feature Learning: No need for manual feature engineering, the CNN learns these features itself from the data,\n",
    "potentially uncovering hidden patterns missed by humans.\n",
    "\n",
    "* High Accuracy: Recent studies show CNNs achieving accuracy comparable to trained microscopists, offering objective and \n",
    "consistent diagnoses.\n",
    "\n",
    "### Limitations of CNNs for Malaria Detection:\n",
    "* Data Dependence: Performance relies heavily on the quality and quantity of training data. Limited or biased data can lead to \n",
    "inaccurate or unfair models.\n",
    "\n",
    "* Interpretability: Understanding how a CNN arrives at a decision can be challenging, making it difficult to explain \n",
    "results or identify potential biases.\n",
    "\n",
    "* Computational Cost: Training large CNNs requires significant computational resources and power, potentially limiting \n",
    "their use in resource-scarce settings.\n"
   ]
  },
  {
   "cell_type": "markdown",
   "id": "93f98e3c",
   "metadata": {},
   "source": [
    "### Now, Shall we begin?"
   ]
  },
  {
   "cell_type": "markdown",
   "id": "9f86d8fb",
   "metadata": {},
   "source": [
    "## Step 1 (Importing the Necessary Libraries, Functions and Modules)"
   ]
  },
  {
   "cell_type": "code",
   "execution_count": 3,
   "id": "5dba6dfe",
   "metadata": {},
   "outputs": [],
   "source": [
    "import numpy as np\n",
    "\n",
    "#Establish a fixed value for the `numpy` pseudo-random generator.\n",
    "#This helps with repeatable results everytime you run the code. \n",
    "np.random.seed(1000)\n",
    "\n",
    "import matplotlib.pyplot as plt\n",
    "import os\n",
    "import cv2\n",
    "from PIL import Image\n",
    "import keras\n",
    "\n",
    "os.environ['KERAS_BACKEND'] = 'tensorflow' # added to configure Tensorflow as the backend\n",
    " "
   ]
  },
  {
   "cell_type": "markdown",
   "id": "6e32bcca",
   "metadata": {},
   "source": [
    "### Purposes for each Library:\n",
    "\n",
    "* matplotlib.pyplot as plt: Creates visualizations of images and data.\n",
    "* os: Interacts with the operating system to manage files and directories.\n",
    "* cv2: Offers advanced image processing and manipulation capabilities.\n",
    "* from PIL import Image: Opens, reads, and manipulates various image formats.\n",
    "* keras: Builds and trains deep learning models, particularly the CNN."
   ]
  },
  {
   "cell_type": "markdown",
   "id": "61dbbbf4",
   "metadata": {},
   "source": [
    "## Step 2 (Accessing the data and defining the labels)"
   ]
  },
  {
   "cell_type": "code",
   "execution_count": 4,
   "id": "0ecc8091",
   "metadata": {},
   "outputs": [],
   "source": [
    "image_directory = 'cell_images2/' #Sets the path to the image directory.\n",
    "SIZE = 64  #Assigns a uniform size to resize images.\n",
    "dataset = []    #Initializes empty lists to hold image data.\n",
    "label = []  #Initializes empty lists to hold image labels."
   ]
  },
  {
   "cell_type": "markdown",
   "id": "c7390454",
   "metadata": {},
   "source": [
    "### What does the data we're working with even look like abeg??"
   ]
  },
  {
   "cell_type": "markdown",
   "id": "507d42ea",
   "metadata": {},
   "source": [
    "* ### UNINFECTED CELL"
   ]
  },
  {
   "cell_type": "markdown",
   "id": "d8a0d571",
   "metadata": {},
   "source": [
    "<img src=\"clean.png\"/>"
   ]
  },
  {
   "cell_type": "markdown",
   "id": "3aa4a00b",
   "metadata": {},
   "source": [
    "* ### INFECTED CELL"
   ]
  },
  {
   "cell_type": "markdown",
   "id": "f084c7bf",
   "metadata": {},
   "source": [
    "<img src=\"unclean.png\"/>"
   ]
  },
  {
   "cell_type": "code",
   "execution_count": 5,
   "id": "55abef42",
   "metadata": {},
   "outputs": [],
   "source": [
    "parasitized_images = os.listdir(image_directory + 'Parasitized/') # Retrieves a list of 'Parasitized' image filenames.\n",
    "for i, image_name in enumerate(parasitized_images):    # Iterates through each 'Parasitized' image.\n",
    "    \n",
    "    if (image_name.split('.')[1] == 'png'):  # Checks if the image format is PNG.\n",
    "        image = cv2.imread(image_directory + 'Parasitized/' + image_name)  # Reads the image using OpenCV\n",
    "        image = Image.fromarray(image, 'RGB')  # Converts image to RGB format using PIL.\n",
    "        image = image.resize((SIZE, SIZE))  # Resizes image to 64x64 pixels.\n",
    "        dataset.append(np.array(image)) # Appends the image as a NumPy array to the 'dataset' list.\n",
    "        label.append(0) # Appends the label '0' (indicating parasitized) to the 'label' list.\n",
    "\n",
    "\n",
    "# (Similar process for uninfected images, but with label 1): \n",
    "# We repeated the same steps for 'Uninfected' images, assigning them label '1'.\n",
    "\n",
    "uninfected_images = os.listdir(image_directory + 'Uninfected/')\n",
    "for i, image_name in enumerate(uninfected_images):\n",
    "    if (image_name.split('.')[1] == 'png'):\n",
    "        image = cv2.imread(image_directory + 'Uninfected/' + image_name)\n",
    "        image = Image.fromarray(image, 'RGB')\n",
    "        image = image.resize((SIZE, SIZE))\n",
    "        dataset.append(np.array(image))\n",
    "        label.append(1)"
   ]
  },
  {
   "cell_type": "code",
   "execution_count": 8,
   "id": "6273910b",
   "metadata": {},
   "outputs": [
    {
     "name": "stdout",
     "output_type": "stream",
     "text": [
      "['C100P61ThinF_IMG_20150918_144104_cell_162.png', 'C100P61ThinF_IMG_20150918_144104_cell_163.png', 'C100P61ThinF_IMG_20150918_144104_cell_164.png', 'C100P61ThinF_IMG_20150918_144104_cell_165.png', 'C100P61ThinF_IMG_20150918_144104_cell_166.png']\n"
     ]
    }
   ],
   "source": [
    "print(parasitized_images[:5])"
   ]
  },
  {
   "cell_type": "markdown",
   "id": "3bd48da3",
   "metadata": {},
   "source": [
    "## Step 3 (Model Architecture Definition and Compilation)\n",
    "\n",
    "### Explanation: \n",
    "This section of the code defines the structure of the convolutional neural network (CNN) model used for classifying \n",
    "malaria-infected cells and compiles it for training. It encompasses the following key steps:\n",
    "* Input Layer: Establishes the expected input shape for images.\n",
    "\n",
    "\n",
    "* Convolutional Layers: Extract features from the images using filters.\n",
    "\n",
    "\n",
    "* Pooling Layers: Reduce feature map size for efficiency.\n",
    "\n",
    "\n",
    "* Batch Normalization Layers: Normalize activations for faster training and stability.\n",
    "\n",
    "\n",
    "* Dropout Layers: Randomly drop connections to prevent overfitting.\n",
    "\n",
    "\n",
    "* Flatten Layer: Transforms 2D feature maps into a 1D vector.\n",
    "\n",
    "\n",
    "* Dense Layers: Perform classification based on extracted features.\n",
    "\n",
    "\n",
    "* Output Layer: Produces final predictions for each class (infected or uninfected)."
   ]
  },
  {
   "cell_type": "code",
   "execution_count": 4,
   "id": "859ff5fd",
   "metadata": {
    "scrolled": true
   },
   "outputs": [
    {
     "name": "stdout",
     "output_type": "stream",
     "text": [
      "Model: \"model\"\n",
      "_________________________________________________________________\n",
      " Layer (type)                Output Shape              Param #   \n",
      "=================================================================\n",
      " input_1 (InputLayer)        [(None, 64, 64, 3)]       0         \n",
      "                                                                 \n",
      " conv2d (Conv2D)             (None, 64, 64, 32)        896       \n",
      "                                                                 \n",
      " max_pooling2d (MaxPooling2  (None, 32, 32, 32)        0         \n",
      " D)                                                              \n",
      "                                                                 \n",
      " batch_normalization (Batch  (None, 32, 32, 32)        128       \n",
      " Normalization)                                                  \n",
      "                                                                 \n",
      " dropout (Dropout)           (None, 32, 32, 32)        0         \n",
      "                                                                 \n",
      " conv2d_1 (Conv2D)           (None, 32, 32, 32)        9248      \n",
      "                                                                 \n",
      " max_pooling2d_1 (MaxPoolin  (None, 16, 16, 32)        0         \n",
      " g2D)                                                            \n",
      "                                                                 \n",
      " batch_normalization_1 (Bat  (None, 16, 16, 32)        128       \n",
      " chNormalization)                                                \n",
      "                                                                 \n",
      " dropout_1 (Dropout)         (None, 16, 16, 32)        0         \n",
      "                                                                 \n",
      " flatten (Flatten)           (None, 8192)              0         \n",
      "                                                                 \n",
      " dense (Dense)               (None, 512)               4194816   \n",
      "                                                                 \n",
      " batch_normalization_2 (Bat  (None, 512)               2048      \n",
      " chNormalization)                                                \n",
      "                                                                 \n",
      " dropout_2 (Dropout)         (None, 512)               0         \n",
      "                                                                 \n",
      " dense_1 (Dense)             (None, 256)               131328    \n",
      "                                                                 \n",
      " batch_normalization_3 (Bat  (None, 256)               1024      \n",
      " chNormalization)                                                \n",
      "                                                                 \n",
      " dropout_3 (Dropout)         (None, 256)               0         \n",
      "                                                                 \n",
      " dense_2 (Dense)             (None, 2)                 514       \n",
      "                                                                 \n",
      "=================================================================\n",
      "Total params: 4340130 (16.56 MB)\n",
      "Trainable params: 4338466 (16.55 MB)\n",
      "Non-trainable params: 1664 (6.50 KB)\n",
      "_________________________________________________________________\n",
      "None\n"
     ]
    }
   ],
   "source": [
    "INPUT_SHAPE = (SIZE, SIZE, 3)   #Specifies the expected input image shape (height, width, channels)\n",
    "inp = keras.layers.Input(shape=INPUT_SHAPE) # Creates the model's input layer.\n",
    "\n",
    "conv1 = keras.layers.Conv2D(32, kernel_size=(3, 3), \n",
    "                               activation='relu', padding='same')(inp)  # Convolutional layer extracts features using filters\n",
    "pool1 = keras.layers.MaxPooling2D(pool_size=(2, 2))(conv1)   # Max pooling layer reduces feature map size for efficiency\n",
    "norm1 = keras.layers.BatchNormalization(axis = -1)(pool1) # Batch normalization layer normalizes activations for faster training\n",
    "drop1 = keras.layers.Dropout(rate=0.2)(norm1) # Dropout layer randomly drops connections to prevent overfitting \n",
    "\n",
    "\n",
    "conv2 = keras.layers.Conv2D(32, kernel_size=(3, 3), \n",
    "                               activation='relu', padding='same')(drop1)\n",
    "pool2 = keras.layers.MaxPooling2D(pool_size=(2, 2))(conv2)\n",
    "norm2 = keras.layers.BatchNormalization(axis = -1)(pool2)\n",
    "drop2 = keras.layers.Dropout(rate=0.2)(norm2)\n",
    "\n",
    "\n",
    "flat = keras.layers.Flatten()(drop2)  #Flattens the 2D feature maps into a 1D vector for dense layers.\n",
    "\n",
    "\n",
    "hidden1 = keras.layers.Dense(512, activation='relu')(flat)#Fully connected layer for learning non-linear combinations of features\n",
    "norm3 = keras.layers.BatchNormalization(axis = -1)(hidden1)  # Normalizes activations for faster training.\n",
    "drop3 = keras.layers.Dropout(rate=0.2)(norm3) #Randomly drops connections to prevent overfitting.\n",
    "hidden2 = keras.layers.Dense(256, activation='relu')(drop3)#Fully connected layer for learning non-linear combinations of features\n",
    "norm4 = keras.layers.BatchNormalization(axis = -1)(hidden2)  # Normalizes activations for faster training.\n",
    "drop4 = keras.layers.Dropout(rate=0.2)(norm4) #Randomly drops connections to prevent overfitting.\n",
    "\n",
    "\n",
    "out = keras.layers.Dense(2, activation='sigmoid')(drop4) #Final output layer with two units (one for each class) and sigmoid- \n",
    "                                                         #-activation for binary classification.\n",
    "\n",
    "    \n",
    "model = keras.Model(inputs=inp, outputs=out) # Creates the complete model with specified inputs and outputs.\n",
    "model.compile(optimizer='adam', #for efficient gradient descent.\n",
    "                loss='categorical_crossentropy',   # Check between binary_crossentropy and categorical_crossentropy\n",
    "                metrics=['accuracy']) # to track model performance.\n",
    "\n",
    "\n",
    "print(model.summary()) #Prints a summary of the model's architecture."
   ]
  },
  {
   "cell_type": "markdown",
   "id": "61e5631d",
   "metadata": {},
   "source": [
    "## Step 4 (Training and Evaluating the Malaria Detection Model) \n",
    "\n",
    "### Explanation:\n",
    "This section of code trains the deep learning model to detect malaria-infected cells in images and then evaluates its accuracy \n",
    "on unseen test data. It contains the following steps:\n",
    "\n",
    "* Data Splitting for Training and Testing :\n",
    "    The dataset is divided into 80% for training and 20% for testing to ensure unbiased evaluation.\n",
    "    Labels are noe-hot encoded to representt multiple classes (infected or uninfected cells)\n",
    "    A fixed random state guarantees consistent splits for reproducibiliy\n",
    "    \n",
    "    \n",
    "* Model Training with Key Parameters\n",
    "\n",
    "\n",
    "* Validation Split for Monitoring:\n",
    "    A 10% validation splitt is used to assess model performance during training and prevent overfitting.\n",
    "    \n",
    "    \n",
    "* Evaluation on Test Data:\n",
    "    The trained model is evaluated on the unseen test data to measure its accuracy on new samples.\n",
    "    \n",
    "    \n",
    "* Accuracy Calculation and Reporting:\n",
    "    The final test accuracy is calculated and printed as a percentage to gauge the model's effectiveness in classifying \n",
    "    malaria-infected cells.\n"
   ]
  },
  {
   "cell_type": "code",
   "execution_count": 5,
   "id": "c1fa9a99",
   "metadata": {},
   "outputs": [
    {
     "name": "stdout",
     "output_type": "stream",
     "text": [
      "Epoch 1/5\n",
      "311/311 [==============================] - 64s 194ms/step - loss: 0.4620 - accuracy: 0.8076 - val_loss: 0.3835 - val_accuracy: 0.8426\n",
      "Epoch 2/5\n",
      "311/311 [==============================] - 59s 191ms/step - loss: 0.2262 - accuracy: 0.9172 - val_loss: 0.1685 - val_accuracy: 0.9347\n",
      "Epoch 3/5\n",
      "311/311 [==============================] - 60s 192ms/step - loss: 0.1881 - accuracy: 0.9331 - val_loss: 0.1730 - val_accuracy: 0.9356\n",
      "Epoch 4/5\n",
      "311/311 [==============================] - 59s 191ms/step - loss: 0.1628 - accuracy: 0.9424 - val_loss: 0.2530 - val_accuracy: 0.9029\n",
      "Epoch 5/5\n",
      "311/311 [==============================] - 59s 191ms/step - loss: 0.1426 - accuracy: 0.9480 - val_loss: 0.1616 - val_accuracy: 0.9515\n",
      "173/173 [==============================] - 4s 25ms/step - loss: 0.1696 - accuracy: 0.9412\n",
      "Test_Accuracy: 94.12%\n"
     ]
    }
   ],
   "source": [
    "from sklearn.model_selection import train_test_split # Imports a function to split data into training and testing sets.\n",
    "from keras.utils import to_categorical # Imports a function to convert labels to one-hot encoded format.\n",
    "\n",
    "\n",
    "X_train, X_test, y_train, y_test = train_test_split(dataset, to_categorical(np.array(label)), test_size = 0.20, random_state = 0)\n",
    "\n",
    "# The above code splits the data and labels:\n",
    "# 1. 80% for training, 20% for testing\n",
    "# 2. One-hot encodes labels for multi-class classification\n",
    "# 3. Ensures consistent splits witth a fixed random state.\n",
    "\n",
    "#Fit the model\n",
    "history = model.fit(np.array(X_train), \n",
    "                         y_train, \n",
    "                         batch_size = 64, \n",
    "                         verbose = 1, \n",
    "                         epochs = 5,      \n",
    "                         validation_split = 0.1,\n",
    "                         shuffle = False\n",
    "                      \n",
    "                     )\n",
    "\n",
    "# The above code 'model.fit()' trains the model using specified parameters:\n",
    " # np.array(X_train), y_train: Training data and labels.\n",
    " # batch_size=64: Processes 64 samples per batch.\n",
    " # verbose=1: Displays progress during training.\n",
    " # epochs=5: Iterates through the training data 5 times.\n",
    " # validation_split=0.1: Uses 10% of training data for validation.\n",
    " # shuffle=False: Disables data shuffling before each epoch.\n",
    "\n",
    "\n",
    "\n",
    "print(\"Test_Accuracy: {:.2f}%\".format(model.evaluate(np.array(X_test), np.array(y_test))[1]*100))\n",
    "# The above code 'print(\"Test_Accuracy: {:.2f}%\".format(...))': Prints the model's accuracy on the test data:\n",
    "  # model.evaluate(): Evaluates the model on the test data\n",
    "  # *[1]100: Extracts the accuracy value and formats it as a percentage.\n"
   ]
  },
  {
   "cell_type": "markdown",
   "id": "fac0b019",
   "metadata": {},
   "source": [
    "## Step 5 (Visualizing Model Performance through Training and Validattion Curves)\n",
    "\n",
    "### General Reasons for the Plots:\n",
    "These plots serve to graphically represent the performance of your trained model\n",
    "during the training process. They capture two key metrics: accuracy and loss,\n",
    "both plotted against the number of training epochs. Analyzing these curves helps\n",
    "you understand:\n",
    "\n",
    "   * Learning progress: How well the model learns to distinguish between \n",
    "        infected and uninfected cells as training progresses.\n",
    "        \n",
    "        \n",
    "   * Overfitting: If the model is memorizing the training data too well, \n",
    "        leading to poor performance on unseen data.\n",
    "       \n",
    "       \n",
    "   * Generalization ability: How well the model translates its learnings to \n",
    "        new, unseen samples.\n",
    "\n",
    "In this malaria detection project, understanding the model's performance is crucial. These plots provide valuable insights into:\n",
    "\n",
    "* Effectiveness of the chosen architecture and hyperparameters: Whether the model architecture and training settings are suitable for the classification task.\n",
    "\n",
    "\n",
    "* Potential for overfitting: If the validation accuracy plateaus or dips while training accuracy keeps rising, it suggests overfitting, which is problematic for real-world deployment.\n",
    "\n",
    "\n",
    "* Need for further optimization: These plots can guide you in adjusting hyperparameters or exploring different model architectures to improve generalization and achieve higher accuracy."
   ]
  },
  {
   "cell_type": "code",
   "execution_count": 6,
   "id": "ab6f82f7",
   "metadata": {},
   "outputs": [
    {
     "data": {
      "image/png": "[encoded data removed]",
      "text/plain": [
       "<Figure size 1200x400 with 2 Axes>"
      ]
     },
     "metadata": {},
     "output_type": "display_data"
    }
   ],
   "source": [
    "f, (ax1, ax2) = plt.subplots(1, 2, figsize=(12, 4)) # Creates a figure with two subplots for visualization.\n",
    "t = f.suptitle('CNN Performance', fontsize=12) # Adds a title to the overall figure.\n",
    "f.subplots_adjust(top=0.85, wspace=0.3) # Adjusts spacing for better visibility.\n",
    "\n",
    "max_epoch = len(history.history['accuracy'])+1 # Determines the total number of epochs.\n",
    "epoch_list = list(range(1,max_epoch)) # Creates a list of epoch numbers for plotting.\n",
    "ax1.plot(epoch_list, history.history['accuracy'], label='Train Accuracy') # Plots accuracy curves for training on the first subplot.\n",
    "ax1.plot(epoch_list, history.history['val_accuracy'], label='Validation Accuracy') # Plots accuracy curves for training on the first subplot.\n",
    "ax1.set_xticks(np.arange(1, max_epoch, 5)) \n",
    "ax1.set_ylabel('Accuracy Value') \n",
    "ax1.set_xlabel('Epoch')\n",
    "ax1.set_title('Accuracy')\n",
    "l1 = ax1.legend(loc=\"best\") #places the legend at a position that won't mess with the plot.\n",
    "#`ax1.set` generally sets labels, title and legend for the accuracy plot\n",
    "\n",
    "ax2.plot(epoch_list, history.history['loss'], label='Train Loss') # Plots loss curves for training on the second subplot.\n",
    "ax2.plot(epoch_list, history.history['val_loss'], label='Validation Loss') # Plots loss curves for training on the second subplot.\n",
    "ax2.set_xticks(np.arange(1, max_epoch, 5)) \n",
    "ax2.set_ylabel('Loss Value') \n",
    "ax2.set_xlabel('Epoch') \n",
    "ax2.set_title('Loss') \n",
    "l2 = ax2.legend(loc=\"best\") # Basically places the legend at a position that won't mess with the plot.\n",
    "# `ax2.set` generally sets labels, title and legend for the accuracy plot"
   ]
  },
  {
   "cell_type": "markdown",
   "id": "9b83ce81",
   "metadata": {},
   "source": [
    "## Step 6 (Saving the Model)"
   ]
  },
  {
   "cell_type": "code",
   "execution_count": 7,
   "id": "8ac14fa6",
   "metadata": {},
   "outputs": [
    {
     "name": "stderr",
     "output_type": "stream",
     "text": [
      "C:\\Anaconda\\lib\\site-packages\\keras\\src\\engine\\training.py:3000: UserWarning: You are saving your model as an HDF5 file via `model.save()`. This file format is considered legacy. We recommend using instead the native Keras format, e.g. `model.save('my_model.keras')`.\n",
      "  saving_api.save_model(\n"
     ]
    }
   ],
   "source": [
    "model.save('malaria_cnn.h5')"
   ]
  }
 ],
 "metadata": {
  "kernelspec": {
   "display_name": "Python 3 (ipykernel)",
   "language": "python",
   "name": "python3"
  },
  "language_info": {
   "codemirror_mode": {
    "name": "ipython",
    "version": 3
   },
   "file_extension": ".py",
   "mimetype": "text/x-python",
   "name": "python",
   "nbconvert_exporter": "python",
   "pygments_lexer": "ipython3",
   "version": "3.9.12"
  }
 },
 "nbformat": 4,
 "nbformat_minor": 5
}

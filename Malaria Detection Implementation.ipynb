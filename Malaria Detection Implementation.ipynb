{
 "cells": [
  {
   "cell_type": "code",
   "execution_count": 6,
   "id": "d6ce099b",
   "metadata": {},
   "outputs": [],
   "source": [
    "import gradio as gr\n",
    "import numpy as np\n",
    "from PIL import Image\n",
    "import keras\n",
    "import os"
   ]
  },
  {
   "cell_type": "code",
   "execution_count": 7,
   "id": "62c429c7",
   "metadata": {},
   "outputs": [],
   "source": [
    "# Load your model (replace with your model loading code)\n",
    "model = keras.models.load_model(\"Malaria_Detection_Model.h5\")"
   ]
  },
  {
   "cell_type": "code",
   "execution_count": 10,
   "id": "9866a8e3",
   "metadata": {},
   "outputs": [],
   "source": [
    "\n",
    "#Img_path.reshape()\n",
    "def preprocess_image(image_filepath):\n",
    "    try:\n",
    "        image = Image.open(image_filepath).convert(\"RGB\")\n",
    "        print(\"Original image shape:\", image.size)  # Print original dimensions\n",
    "        image = np.array(image) / 255.0\n",
    "        image = image.reshape(None, 64, 64, 3)  # Adjust accordingly\n",
    "        print(\"Reshaped image shape:\", image.shape)  # Print reshaped dimensions\n",
    "        return image\n",
    "    except Exception as e:\n",
    "        print(f\"Error opening image: {e}\")\n",
    "        return None , 0"
   ]
  },
  {
   "cell_type": "code",
   "execution_count": 11,
   "id": "50a0e4ba",
   "metadata": {},
   "outputs": [],
   "source": [
    "def predict_malaria(image_filepath):\n",
    "    preprocessed_image = preprocess_image(image_filepath)\n",
    "    if preprocessed_image is None:\n",
    "        return \"Error preprocessing image\", 0  # Handle potential errors\n",
    "\n",
    "    prediction = model.predict(preprocessed_image)\n",
    "    prediction_class = np.argmax(prediction[0])\n",
    "    prediction_label = \"Infected\" if prediction_class == 0 else \"Uninfected\"\n",
    "    prediction_confidence = prediction[0][prediction_class] * 100\n",
    "    return prediction_label, prediction_confidence\n"
   ]
  },
  {
   "cell_type": "code",
   "execution_count": 14,
   "id": "a13a4a6e",
   "metadata": {},
   "outputs": [
    {
     "ename": "SyntaxError",
     "evalue": "invalid syntax (1351285063.py, line 4)",
     "output_type": "error",
     "traceback": [
      "\u001b[1;36m  Input \u001b[1;32mIn [14]\u001b[1;36m\u001b[0m\n\u001b[1;33m    outputs=[gr.Textbox(label=\"Prediction\"), gr.Label(label=\"Confidence\")],\u001b[0m\n\u001b[1;37m    ^\u001b[0m\n\u001b[1;31mSyntaxError\u001b[0m\u001b[1;31m:\u001b[0m invalid syntax\n"
     ]
    }
   ],
   "source": [
    "iface = gr.Interface(\n",
    "    fn=predict_malaria,\n",
    "    inputs=\"text\"\n",
    "    outputs=[gr.Textbox(label=\"Prediction\"), gr.Label(label=\"Confidence\")],\n",
    "    title=\"Malaria Detection\",\n",
    "    description=\"Upload a PNG image of a cell to check for malaria infection.\",\n",
    ")"
   ]
  },
  {
   "cell_type": "code",
   "execution_count": 13,
   "id": "173037aa",
   "metadata": {},
   "outputs": [
    {
     "name": "stdout",
     "output_type": "stream",
     "text": [
      "Running on local URL:  http://127.0.0.1:7860\n",
      "Running on public URL: https://c8bd61f2f36a50907f.gradio.live\n",
      "\n",
      "This share link expires in 72 hours. For free permanent hosting and GPU upgrades, run `gradio deploy` from Terminal to deploy to Spaces (https://huggingface.co/spaces)\n"
     ]
    },
    {
     "data": {
      "text/html": [
       "<div><iframe src=\"https://c8bd61f2f36a50907f.gradio.live\" width=\"100%\" height=\"500\" allow=\"autoplay; camera; microphone; clipboard-read; clipboard-write;\" frameborder=\"0\" allowfullscreen></iframe></div>"
      ],
      "text/plain": [
       "<IPython.core.display.HTML object>"
      ]
     },
     "metadata": {},
     "output_type": "display_data"
    },
    {
     "data": {
      "text/plain": []
     },
     "execution_count": 13,
     "metadata": {},
     "output_type": "execute_result"
    },
    {
     "name": "stdout",
     "output_type": "stream",
     "text": [
      "Error opening image: 'NoneType' object has no attribute 'read'\n"
     ]
    },
    {
     "name": "stderr",
     "output_type": "stream",
     "text": [
      "Traceback (most recent call last):\n",
      "  File \"C:\\Anaconda\\lib\\site-packages\\gradio\\queueing.py\", line 495, in call_prediction\n",
      "    output = await route_utils.call_process_api(\n",
      "  File \"C:\\Anaconda\\lib\\site-packages\\gradio\\route_utils.py\", line 230, in call_process_api\n",
      "    output = await app.get_blocks().process_api(\n",
      "  File \"C:\\Anaconda\\lib\\site-packages\\gradio\\blocks.py\", line 1590, in process_api\n",
      "    result = await self.call_function(\n",
      "  File \"C:\\Anaconda\\lib\\site-packages\\gradio\\blocks.py\", line 1176, in call_function\n",
      "    prediction = await anyio.to_thread.run_sync(\n",
      "  File \"C:\\Anaconda\\lib\\site-packages\\anyio\\to_thread.py\", line 28, in run_sync\n",
      "    return await get_asynclib().run_sync_in_worker_thread(func, *args, cancellable=cancellable,\n",
      "  File \"C:\\Anaconda\\lib\\site-packages\\anyio\\_backends\\_asyncio.py\", line 818, in run_sync_in_worker_thread\n",
      "    return await future\n",
      "  File \"C:\\Anaconda\\lib\\site-packages\\anyio\\_backends\\_asyncio.py\", line 754, in run\n",
      "    result = context.run(func, *args)\n",
      "  File \"C:\\Anaconda\\lib\\site-packages\\gradio\\utils.py\", line 678, in wrapper\n",
      "    response = f(*args, **kwargs)\n",
      "  File \"C:\\Users\\Jason Owo\\AppData\\Local\\Temp\\ipykernel_796\\722366361.py\", line 6, in predict_malaria\n",
      "    prediction = model.predict(preprocessed_image)\n",
      "  File \"C:\\Anaconda\\lib\\site-packages\\keras\\src\\utils\\traceback_utils.py\", line 70, in error_handler\n",
      "    raise e.with_traceback(filtered_tb) from None\n",
      "  File \"C:\\Anaconda\\lib\\site-packages\\keras\\src\\engine\\data_adapter.py\", line 1105, in select_data_adapter\n",
      "    raise ValueError(\n",
      "ValueError: Failed to find data adapter that can handle input: (<class 'tuple'> containing values of types {\"<class 'int'>\", \"<class 'NoneType'>\"}), <class 'NoneType'>\n"
     ]
    },
    {
     "name": "stdout",
     "output_type": "stream",
     "text": [
      "Original image shape: (113, 130)\n",
      "Error opening image: 'NoneType' object cannot be interpreted as an integer\n"
     ]
    },
    {
     "name": "stderr",
     "output_type": "stream",
     "text": [
      "Traceback (most recent call last):\n",
      "  File \"C:\\Anaconda\\lib\\site-packages\\gradio\\queueing.py\", line 495, in call_prediction\n",
      "    output = await route_utils.call_process_api(\n",
      "  File \"C:\\Anaconda\\lib\\site-packages\\gradio\\route_utils.py\", line 230, in call_process_api\n",
      "    output = await app.get_blocks().process_api(\n",
      "  File \"C:\\Anaconda\\lib\\site-packages\\gradio\\blocks.py\", line 1590, in process_api\n",
      "    result = await self.call_function(\n",
      "  File \"C:\\Anaconda\\lib\\site-packages\\gradio\\blocks.py\", line 1176, in call_function\n",
      "    prediction = await anyio.to_thread.run_sync(\n",
      "  File \"C:\\Anaconda\\lib\\site-packages\\anyio\\to_thread.py\", line 28, in run_sync\n",
      "    return await get_asynclib().run_sync_in_worker_thread(func, *args, cancellable=cancellable,\n",
      "  File \"C:\\Anaconda\\lib\\site-packages\\anyio\\_backends\\_asyncio.py\", line 818, in run_sync_in_worker_thread\n",
      "    return await future\n",
      "  File \"C:\\Anaconda\\lib\\site-packages\\anyio\\_backends\\_asyncio.py\", line 754, in run\n",
      "    result = context.run(func, *args)\n",
      "  File \"C:\\Anaconda\\lib\\site-packages\\gradio\\utils.py\", line 678, in wrapper\n",
      "    response = f(*args, **kwargs)\n",
      "  File \"C:\\Users\\Jason Owo\\AppData\\Local\\Temp\\ipykernel_796\\722366361.py\", line 6, in predict_malaria\n",
      "    prediction = model.predict(preprocessed_image)\n",
      "  File \"C:\\Anaconda\\lib\\site-packages\\keras\\src\\utils\\traceback_utils.py\", line 70, in error_handler\n",
      "    raise e.with_traceback(filtered_tb) from None\n",
      "  File \"C:\\Anaconda\\lib\\site-packages\\keras\\src\\engine\\data_adapter.py\", line 1105, in select_data_adapter\n",
      "    raise ValueError(\n",
      "ValueError: Failed to find data adapter that can handle input: (<class 'tuple'> containing values of types {\"<class 'int'>\", \"<class 'NoneType'>\"}), <class 'NoneType'>\n"
     ]
    }
   ],
   "source": [
    "iface.launch(share=True)"
   ]
  },
  {
   "cell_type": "code",
   "execution_count": null,
   "id": "31311dc4",
   "metadata": {},
   "outputs": [],
   "source": []
  }
 ],
 "metadata": {
  "kernelspec": {
   "display_name": "Python 3 (ipykernel)",
   "language": "python",
   "name": "python3"
  },
  "language_info": {
   "codemirror_mode": {
    "name": "ipython",
    "version": 3
   },
   "file_extension": ".py",
   "mimetype": "text/x-python",
   "name": "python",
   "nbconvert_exporter": "python",
   "pygments_lexer": "ipython3",
   "version": "3.9.12"
  }
 },
 "nbformat": 4,
 "nbformat_minor": 5
}
